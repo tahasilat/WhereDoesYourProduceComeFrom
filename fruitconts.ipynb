{
 "cells": [
  {
   "cell_type": "code",
   "execution_count": 1,
   "metadata": {},
   "outputs": [],
   "source": [
    "import matplotlib.pyplot as plt"
   ]
  },
  {
   "cell_type": "markdown",
   "metadata": {},
   "source": [
    "Define a dictionary with the abbreviations for each country and the list of all fruits"
   ]
  },
  {
   "cell_type": "code",
   "execution_count": 4,
   "metadata": {},
   "outputs": [],
   "source": [
    "country_continents = {\n",
    "    \"Brazil\": \"South America\",\n",
    "    \"China\": \"Asia\",\n",
    "    \"Mexico\": \"Central America\",\n",
    "    \"Colombia\": \"South America\",\n",
    "    \"Costa Rica\": \"Central America\",\n",
    "    \"Canada\": \"Canada\",\n",
    "    \"USA\": \"USA\",\n",
    "    \"Chile\": \"South America\",\n",
    "    \"Brazil\": \"South America\",\n",
    "    \"Guatemala\": \"Central America\",\n",
    "    \"Morocco\": \"Africa\",\n",
    "    \"Dominican Republic\": \"Central America\",\n",
    "    \"Ecuador\": \"South America\",\n",
    "    \"Honduras\": \"Central America\",\n",
    "    \"Vietnam\": \"Asia\",\n",
    "    \"Italy\": \"Europe\",\n",
    "    \"Israel\": \"Asia\",\n",
    "    \"Peru\": \"South America\"\n",
    "}"
   ]
  },
  {
   "cell_type": "code",
   "execution_count": null,
   "metadata": {},
   "outputs": [],
   "source": [
    "fruit_countries = ['Brazil',\n",
    " 'Brazil',\n",
    " 'Canada',\n",
    " 'Canada',\n",
    " 'Canada',\n",
    " 'Canada',\n",
    " 'Canada',\n",
    " 'Canada',\n",
    " 'USA',\n",
    " 'USA',\n",
    " 'Vietnam']"
   ]
  },
  {
   "cell_type": "code",
   "execution_count": 8,
   "metadata": {},
   "outputs": [],
   "source": [
    "fruit_continents = []\n",
    "for fruit in fruit_countries:\n",
    "    fruit_continents.append(country_continents[fruit]) # Add the continent of the country to the list\n",
    "\n",
    "fruit_continents.sort()"
   ]
  },
  {
   "cell_type": "code",
   "execution_count": 9,
   "metadata": {},
   "outputs": [],
   "source": [
    "unique_fruit_continets = list(set(fruit_continents)) # Remove duplicates from the list\n",
    "unique_fruit_continets.sort()\n"
   ]
  },
  {
   "cell_type": "code",
   "execution_count": 10,
   "metadata": {},
   "outputs": [],
   "source": [
    "fruits_per_continent = {} # Create a dictionary to store the number of fruits from each continent\n",
    "for continent in unique_fruit_continets:\n",
    "    fruits_per_continent[continent] = fruit_continents.count(continent)\n",
    "    "
   ]
  },
  {
   "cell_type": "markdown",
   "metadata": {},
   "source": [
    "Visualize the data in the dictionary"
   ]
  },
  {
   "cell_type": "code",
   "execution_count": null,
   "metadata": {},
   "outputs": [],
   "source": [
    "labels = list(fruits_per_continent.keys()) # Get the keys of the dictionary\n",
    "values = list(fruits_per_continent.values()) # Get the values of the dictionary\n",
    "\n",
    "# Create a pie chart\n",
    "plt.figure(figsize=(10, 6))\n",
    "plt.pie(values, labels=labels, autopct='%1.1f%%', startangle=140, textprops={'fontsize': 10})\n",
    "plt.title(\"Where do our fruits come from?\")\n",
    "plt.axis('equal')  # Equal aspect ratio ensures the pie chart is circular\n",
    "\n",
    "# Show the chart\n",
    "plt.show()"
   ]
  }
 ],
 "metadata": {
  "kernelspec": {
   "display_name": "Python 3",
   "language": "python",
   "name": "python3"
  },
  "language_info": {
   "codemirror_mode": {
    "name": "ipython",
    "version": 3
   },
   "file_extension": ".py",
   "mimetype": "text/x-python",
   "name": "python",
   "nbconvert_exporter": "python",
   "pygments_lexer": "ipython3",
   "version": "3.12.3"
  }
 },
 "nbformat": 4,
 "nbformat_minor": 2
}
